{
 "cells": [
  {
   "cell_type": "markdown",
   "metadata": {},
   "source": [
    "When you roll a pair of fair dice, the most likely outcome is 7 (which occurs 1/6 of the time) and the least likely outcomes are 2 and 12 (which each occur 1/36 of the time).\n",
    "\n",
    "Annoyed by the variance of these probabilities, I set out to create a pair of “uniform dice.” These dice still have sides that are uniquely numbered from 1 to 6, and they are identical to each other. However, they are weighted so that their sum is more uniformly distributed between 2 and 12 than that of fair dice.\n",
    "\n",
    "Unfortunately, it is impossible to create a pair of such dice so that the probabilities of all 11 sums from 2 to 12 are identical (i.e., they are all 1/11). But I bet we can get pretty close.\n",
    "\n",
    "The variance of the 11 probabilities is the average value of the squared difference between each probability and the average probability (which is, again, 1/11). One way to make my dice as uniform as possible is to minimize this variance.\n",
    "\n",
    "So how should I make my dice as uniform as possible? In other words, which specific weighting of the dice minimizes the variance among the 11 probabilities? That is, what should the probabilities be for rolling 1, 2, 3, 4, 5 or 6 with one of the dice?"
   ]
  },
  {
   "cell_type": "code",
   "execution_count": 25,
   "metadata": {},
   "outputs": [],
   "source": [
    "import random"
   ]
  },
  {
   "cell_type": "code",
   "execution_count": 121,
   "metadata": {},
   "outputs": [],
   "source": [
    "def get_probs(die):\n",
    "    probs = {}\n",
    "    for i in die.keys():\n",
    "        for j in die.keys():\n",
    "            s = i+j\n",
    "            p = die[i]*die[j]\n",
    "            if s not in probs.keys():\n",
    "                probs[s] = p\n",
    "            else:\n",
    "                probs[s] += p\n",
    "    return probs\n",
    "\n",
    "def get_variance(probs):\n",
    "    avg_prob = sum(probs.values())/len(probs) # 1/11\n",
    "    diffs_squared = []\n",
    "    for i in probs.keys():\n",
    "        diffs_squared.append((probs[i] - avg_prob)**2)\n",
    "    return sum(diffs_squared)/len(diffs_squared)\n",
    "\n",
    "def make_random_die():\n",
    "    d = {}\n",
    "#    # no symmetry\n",
    "#     for i in range(1,7): \n",
    "#         d[i] = random.random()\n",
    "\n",
    "    #try symmetry\n",
    "    for i in range(1,4):\n",
    "        d[i] = d[7-i] = random.random()\n",
    "        \n",
    "    total = sum(d.values())\n",
    "    for i in range(1,7):\n",
    "        d[i] = d[i] / total\n",
    "    return d"
   ]
  },
  {
   "cell_type": "code",
   "execution_count": 124,
   "metadata": {},
   "outputs": [
    {
     "name": "stdout",
     "output_type": "stream",
     "text": [
      "variance:  0.0012175857075687477 \n",
      "\n",
      " die probability:  {1: 0.24396165135046236, 6: 0.24396165135046236, 2: 0.13751750169180627, 5: 0.13751750169180627, 3: 0.11852084695773131, 4: 0.11852084695773131} \n",
      "\n",
      " sum probability:  {2: 0.05951728732964455, 7: 0.18495108352955694, 3: 0.06709799360464612, 6: 0.11374256631227235, 4: 0.07674014635808304, 5: 0.09042646463057535, 12: 0.05951728732964455, 8: 0.11374256631227235, 11: 0.06709799360464612, 9: 0.09042646463057537, 10: 0.07674014635808304}\n"
     ]
    }
   ],
   "source": [
    "best_var = get_variance(get_probs({1:1/6,2:1/6,3:1/6,4:1/6,5:1/6,6:1/6,})) #0.00198...\n",
    "best_die = {}\n",
    "best_probs = {}\n",
    "\n",
    "n = 1000000\n",
    "for _ in range(n):\n",
    "    d = make_random_die()\n",
    "    probs = get_probs(d)\n",
    "    var = get_variance(probs)\n",
    "    if var < best_var:\n",
    "        best_var = var\n",
    "        best_die = d\n",
    "        best_probs = probs\n",
    "print('variance: ', best_var, '\\n'*2, 'die probability: ', best_die, '\\n'*2, 'sum probability: ', best_probs)"
   ]
  }
 ],
 "metadata": {
  "kernelspec": {
   "display_name": "Python 3",
   "language": "python",
   "name": "python3"
  },
  "language_info": {
   "codemirror_mode": {
    "name": "ipython",
    "version": 3
   },
   "file_extension": ".py",
   "mimetype": "text/x-python",
   "name": "python",
   "nbconvert_exporter": "python",
   "pygments_lexer": "ipython3",
   "version": "3.6.9"
  }
 },
 "nbformat": 4,
 "nbformat_minor": 2
}
