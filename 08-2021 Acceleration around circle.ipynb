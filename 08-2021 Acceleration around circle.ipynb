{
 "cells": [
  {
   "cell_type": "code",
   "execution_count": 64,
   "metadata": {},
   "outputs": [],
   "source": [
    "from random import choice\n",
    "import numpy as np"
   ]
  },
  {
   "cell_type": "code",
   "execution_count": 335,
   "metadata": {},
   "outputs": [],
   "source": [
    "def select_random_next_position(grid,position,velocity):\n",
    "    options = []\n",
    "    target = [position[0] + velocity[0],position[1] + velocity[1]]\n",
    "    for i in range(-1,2):\n",
    "        for j in range(-1,2):\n",
    "            if i == j == 0: pass\n",
    "            potential_target = (target[0] + i, target[1] + j)\n",
    "            if 0 < potential_target[0] < 15 and 0 < potential_target[1] < 15 and grid[potential_target] != 0:\n",
    "                options.append(potential_target)\n",
    "    if len(options) == 0:\n",
    "        return\n",
    "    return np.array(random.choice(options))\n",
    "\n",
    "def update_position_and_velocity(grid,position,velocity):\n",
    "    new_position = select_random_next_position(grid,position,velocity)\n",
    "    return new_position, new_position - position\n",
    "\n",
    "def success(grid,positions):\n",
    "    return np.cross(positions[-1],start_position) - np.cross(positions[-2],start_position) == 0 \\\n",
    "            and ((positions[-1][0] < start_position[0] < positions[-2][0]) or \\\n",
    "                 (positions[-1][0] > start_position[0] > positions[-2][0]))"
   ]
  },
  {
   "cell_type": "code",
   "execution_count": 338,
   "metadata": {},
   "outputs": [],
   "source": [
    "grids = []\n",
    "succesful_positions = []\n",
    "for i in range(1000):\n",
    "    grid = np.ones([15,15]).astype(int)\n",
    "    for i in range(5,10):\n",
    "        for j in range(5,10):\n",
    "            grid[i,j] = 0\n",
    "    start_position = np.array([12,7])\n",
    "    grid[start] = 8\n",
    "    velocity = np.array([0,0])\n",
    "    position = start_position\n",
    "    positions = [position]\n",
    "    \n",
    "    for j in range(500):\n",
    "        try:\n",
    "            position, velocity = update_position_and_velocity(grid,position,velocity)\n",
    "            grid[position[0],position[1]] = 8\n",
    "            positions.append(position)\n",
    "        except:\n",
    "            continue\n",
    "        if ((grid[:7,:7] == 8).any() and (grid[8:,:7] == 8).any() \\\n",
    "            and (grid[8:,8:] == 8).any() and (grid[:7,8:] == 8).any()):\n",
    "            if success(grid,positions):\n",
    "                grids.append(grid)\n",
    "                succesful_positions.append(positions)\n",
    "                continue"
   ]
  },
  {
   "cell_type": "code",
   "execution_count": 339,
   "metadata": {},
   "outputs": [
    {
     "data": {
      "text/plain": [
       "[]"
      ]
     },
     "execution_count": 339,
     "metadata": {},
     "output_type": "execute_result"
    }
   ],
   "source": [
    "grids"
   ]
  }
 ],
 "metadata": {
  "kernelspec": {
   "display_name": "Python 3",
   "language": "python",
   "name": "ipykernel_py3"
  },
  "language_info": {
   "codemirror_mode": {
    "name": "ipython",
    "version": 3
   },
   "file_extension": ".py",
   "mimetype": "text/x-python",
   "name": "python",
   "nbconvert_exporter": "python",
   "pygments_lexer": "ipython3",
   "version": "3.7.0"
  }
 },
 "nbformat": 4,
 "nbformat_minor": 2
}
