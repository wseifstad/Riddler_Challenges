{
 "cells": [
  {
   "cell_type": "code",
   "execution_count": 7,
   "metadata": {},
   "outputs": [],
   "source": [
    "from itertools import permutations"
   ]
  },
  {
   "cell_type": "code",
   "execution_count": 8,
   "metadata": {},
   "outputs": [],
   "source": [
    "suspects = ['Jessica','Wellington','Gurney','Duncan']"
   ]
  },
  {
   "cell_type": "code",
   "execution_count": 9,
   "metadata": {},
   "outputs": [],
   "source": [
    "traitor_perms = list(set(permutations([True,True,False,False])))"
   ]
  },
  {
   "cell_type": "code",
   "execution_count": 47,
   "metadata": {},
   "outputs": [
    {
     "name": "stdout",
     "output_type": "stream",
     "text": [
      "\n",
      "\n",
      "\n",
      "\n",
      "traitors: {'Jessica': False, 'Wellington': True, 'Gurney': False, 'Duncan': True}\n",
      "total possible traitors: 2\n",
      "\n",
      "\n",
      "{'Jessica': 0, 'Wellington': 1, 'Gurney': 0, 'Duncan': 1}\n"
     ]
    }
   ],
   "source": [
    "liars = {i:0 for i in suspects}\n",
    "\n",
    "for traitors in traitor_perms:\n",
    "    traitor_status = {}\n",
    "    for s,t in zip(suspects,traitors):\n",
    "        traitor_status[s] = t\n",
    "\n",
    "    statements = {'Jessica' : not traitor_status['Jessica'],\n",
    "        'Wellington' : not traitor_status['Wellington'],\n",
    "        'Gurney' : traitor_status['Jessica'] ^ traitor_status['Wellington'],\n",
    "        'Duncan' : traitor_status['Jessica'] ^ traitor_status['Gurney'],\n",
    "    }\n",
    "    \n",
    "    if all(statements[i] != traitor_status[i] for i in suspects) and sum(1 for i in statements.values() if not i) == 2:\n",
    "        print('traitors:', traitor_status)\n",
    "        print('total possible traitors:',sum(1 for i in statements.values() if not i))\n",
    "\n",
    "        for k in statements:\n",
    "            if not statements[k]:\n",
    "                liars[k] += 1\n",
    "\n",
    "    print()\n",
    "            \n",
    "print(liars)"
   ]
  },
  {
   "cell_type": "code",
   "execution_count": 35,
   "metadata": {},
   "outputs": [
    {
     "data": {
      "text/plain": [
       "{'Jessica': False, 'Wellington': True, 'Gurney': True, 'Duncan': False}"
      ]
     },
     "execution_count": 35,
     "metadata": {},
     "output_type": "execute_result"
    }
   ],
   "source": [
    "ts = {'Jessica': True, 'Wellington': False, 'Gurney': True, 'Duncan': False}\n",
    "statements = {'Jessica' : not ts['Jessica'],\n",
    "    'Wellington' : not ts['Wellington'],\n",
    "    'Gurney' : ts['Jessica'] ^ ts['Wellington'],\n",
    "    'Duncan' : ts['Jessica'] ^ ts['Gurney'],\n",
    "}\n",
    "statements"
   ]
  },
  {
   "cell_type": "code",
   "execution_count": 14,
   "metadata": {},
   "outputs": [
    {
     "data": {
      "text/plain": [
       "False"
      ]
     },
     "execution_count": 14,
     "metadata": {},
     "output_type": "execute_result"
    }
   ],
   "source": [
    "True ^ True"
   ]
  }
 ],
 "metadata": {
  "kernelspec": {
   "display_name": "Python 3",
   "language": "python",
   "name": "python3"
  },
  "language_info": {
   "codemirror_mode": {
    "name": "ipython",
    "version": 3
   },
   "file_extension": ".py",
   "mimetype": "text/x-python",
   "name": "python",
   "nbconvert_exporter": "python",
   "pygments_lexer": "ipython3",
   "version": "3.6.9"
  }
 },
 "nbformat": 4,
 "nbformat_minor": 2
}
