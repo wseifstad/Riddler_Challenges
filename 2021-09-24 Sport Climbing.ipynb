{
 "cells": [
  {
   "cell_type": "markdown",
   "metadata": {},
   "source": [
    "The finals of the sport climbing competition has eight climbers, each of whom compete in three different events: speed climbing, bouldering and lead climbing. Based on their time and performance, each of the eight climbers is given a ranking (first through eighth, with no ties allowed) in each event, as well as a corresponding score (1 through 8, respectively).\n",
    "\n",
    "The three scores each climber earns are then multiplied together to give a final score. For example, a climber who placed second in speed climbing, fifth in bouldering and sixth in lead climbing would receive a score of 2 × 5 × 6, or 60 points. The gold medalist is whoever achieves the lowest final score among the eight finalists.\n",
    "\n",
    "What is the highest (i.e., worst) score one could achieve in this event and still have a chance of winning (or at least tying for first place overall)?"
   ]
  },
  {
   "cell_type": "code",
   "execution_count": 8,
   "metadata": {},
   "outputs": [],
   "source": [
    "import random"
   ]
  },
  {
   "cell_type": "code",
   "execution_count": 9,
   "metadata": {},
   "outputs": [
    {
     "name": "stdout",
     "output_type": "stream",
     "text": [
      "42\n",
      "[1, 2, 3, 4, 5, 6, 7, 8]\n",
      "[8, 7, 4, 2, 5, 3, 6, 1]\n",
      "[7, 3, 5, 8, 2, 4, 1, 6]\n",
      "[56, 42, 60, 64, 50, 72, 42, 48]\n"
     ]
    }
   ],
   "source": [
    "iters = 1000000\n",
    "max_winner = 0\n",
    "combination = []\n",
    "for _ in range(iters):\n",
    "    event_1 = list(range(1,9))\n",
    "    event_2 = list(range(1,9))\n",
    "    event_3 = list(range(1,9))\n",
    "\n",
    "    random.shuffle(event_2)\n",
    "    random.shuffle(event_3)\n",
    "    \n",
    "    winner = min([a*b*c for a,b,c, in list(zip(event_1,event_2,event_3))])\n",
    "    if winner > max_winner:\n",
    "        max_winner = winner\n",
    "        combination = [event_1,event_2,event_3]\n",
    "print(max_winner)\n",
    "\n",
    "for i in combination:\n",
    "    print(i)\n",
    "print([a*b*c for a,b,c in list(zip(combination[0],combination[1],combination[2]))])"
   ]
  },
  {
   "cell_type": "code",
   "execution_count": 21,
   "metadata": {},
   "outputs": [
    {
     "name": "stdout",
     "output_type": "stream",
     "text": [
      "<zip object at 0x11072dfc8>\n"
     ]
    }
   ],
   "source": [
    "print(zip(*combination))"
   ]
  }
 ],
 "metadata": {
  "kernelspec": {
   "display_name": "Python 3",
   "language": "python",
   "name": "python3"
  },
  "language_info": {
   "codemirror_mode": {
    "name": "ipython",
    "version": 3
   },
   "file_extension": ".py",
   "mimetype": "text/x-python",
   "name": "python",
   "nbconvert_exporter": "python",
   "pygments_lexer": "ipython3",
   "version": "3.6.9"
  }
 },
 "nbformat": 4,
 "nbformat_minor": 2
}
