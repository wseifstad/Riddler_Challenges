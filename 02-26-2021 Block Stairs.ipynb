{
 "cells": [
  {
   "cell_type": "markdown",
   "metadata": {},
   "source": [
    "https://fivethirtyeight.com/features/how-many-ways-can-you-build-a-staircase/\n",
    "\n",
    "You have 10 blocks with which to build four steps against a wall. The first step is one block high, the second is two blocks high, the third is three blocks high and the fourth is four blocks high.\n",
    "\n",
    "However, the ground ever-so-slightly slopes down toward the wall, and both the floor and the blocks are a little bit slippery. As a result, whenever you place a block at ground level, it slides toward the wall until it hits the wall or another block. And when you place a block atop another block, it will similarly slide toward the wall until it hits the wall or another block.\n",
    "\n",
    "Suppose the four blocks in the bottom row are labeled A, the three blocks in the second row are labeled B, the two blocks in the next row are labeled C and the topmost block is labeled D. One way to build the steps would be to place the blocks in the following order, one row at a time: A-A-A-A-B-B-B-C-C-D. You could alternatively place the blocks one column at a time: A-B-C-D-A-B-C-A-B-A. But you could not place them in the order A-B-B-A-A-A-B-C-C-D because that would mean at one point you have more blocks in the second row, B, than in the bottom row, A — a physical impossibility!\n",
    "\n",
    "How many distinct ways are there to build these four steps using the 10 blocks?\n",
    "\n",
    "Extra credit: Suppose you have precisely enough blocks to build a staircase with N stairs. How many distinct ways are there to build this staircase?"
   ]
  },
  {
   "cell_type": "code",
   "execution_count": null,
   "metadata": {},
   "outputs": [],
   "source": [
    "from itertools import permutations\n",
    "\n",
    "height = 4\n",
    "blocks = [item for sublist in [[i]*(height - i) for i in range(height)] for item in sublist]\n",
    "\n",
    "perms = [list(i) for i in set(permutations(blocks))]\n",
    "\n",
    "valid_perms = 0\n",
    "for p in perms:\n",
    "    if all(j == 0 or p[:i].count(j-1) > p[:i].count(j) for i,j in enumerate(p)):\n",
    "        valid_perms += 1\n",
    "print(valid_perms)\n",
    "#768"
   ]
  }
 ],
 "metadata": {
  "kernelspec": {
   "display_name": "Python 3",
   "language": "python",
   "name": "python3"
  },
  "language_info": {
   "codemirror_mode": {
    "name": "ipython",
    "version": 3
   },
   "file_extension": ".py",
   "mimetype": "text/x-python",
   "name": "python",
   "nbconvert_exporter": "python",
   "pygments_lexer": "ipython3",
   "version": "3.6.9"
  }
 },
 "nbformat": 4,
 "nbformat_minor": 2
}
