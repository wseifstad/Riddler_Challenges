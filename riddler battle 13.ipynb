{
 "cells": [
  {
   "cell_type": "code",
   "execution_count": 124,
   "metadata": {},
   "outputs": [],
   "source": [
    "import math\n",
    "import random\n",
    "import numpy as np\n",
    "from itertools import combinations "
   ]
  },
  {
   "cell_type": "code",
   "execution_count": 74,
   "metadata": {},
   "outputs": [],
   "source": [
    "castles = [i for i in range(1,14)]\n",
    "soldiers = 100\n",
    "total_points = sum(castles)\n",
    "castle_pct_of_points = [round(i / total_points * 100) for i in castles]\n",
    "\n",
    "pct_of_points_solution = castle_pct_of_points.copy()\n",
    "pct_of_points_solution[12] +=1\n",
    "even = [7,7,7,7,8,8,8,8,8,8,8,8,8]"
   ]
  },
  {
   "cell_type": "code",
   "execution_count": 96,
   "metadata": {},
   "outputs": [
    {
     "data": {
      "text/plain": [
       "50.559999999999995"
      ]
     },
     "execution_count": 96,
     "metadata": {},
     "output_type": "execute_result"
    }
   ],
   "source": [
    "sum([round(i / total_points * 100,2) for i in castles][-4:])\n",
    "# 13,12,11,10 are a win "
   ]
  },
  {
   "cell_type": "code",
   "execution_count": 94,
   "metadata": {},
   "outputs": [
    {
     "data": {
      "text/plain": [
       "54.95"
      ]
     },
     "execution_count": 94,
     "metadata": {},
     "output_type": "execute_result"
    }
   ],
   "source": [
    "# if sacrificing the last castle?\n",
    "sum([round(i / total_points * 100,2) for i in castles][-6:-1])"
   ]
  },
  {
   "cell_type": "markdown",
   "metadata": {},
   "source": [
    "Permutations:  \n",
    "100 stars  \n",
    "12 bars  \n",
    "112! / (100! * 12!)"
   ]
  },
  {
   "cell_type": "code",
   "execution_count": 28,
   "metadata": {},
   "outputs": [
    {
     "data": {
      "text/plain": [
       "4416904685676756"
      ]
     },
     "execution_count": 28,
     "metadata": {},
     "output_type": "execute_result"
    }
   ],
   "source": [
    "Permutations = math.factorial(112) / (math.factorial(100)*math.factorial(12))\n",
    "round(Permutations)"
   ]
  },
  {
   "cell_type": "code",
   "execution_count": 141,
   "metadata": {},
   "outputs": [],
   "source": [
    "potential_solutions = []\n",
    "potential_solutions.append(pct_of_points_solution) #proprtional to percentage of total points\n",
    "potential_solutions.append(even) #even distribution (rounding up for more valuable castles)"
   ]
  },
  {
   "cell_type": "code",
   "execution_count": 149,
   "metadata": {},
   "outputs": [],
   "source": [
    "def fight(army_a,army_b):\n",
    "    result = np.subtract(army_a,army_b)\n",
    "    score_a = 0\n",
    "    score_b = 0\n",
    "    for i in range(len(result)):\n",
    "        if result[i] > 0:\n",
    "            score_a += (i+1)\n",
    "        if result[i] < 0:\n",
    "            score_b += (i+1)      \n",
    "    if score_a > score_b:\n",
    "        return army_a\n",
    "    if score_b > score_a:\n",
    "        return army_b\n",
    "    else:\n",
    "        return 'tie'\n",
    "    "
   ]
  },
  {
   "cell_type": "code",
   "execution_count": 153,
   "metadata": {},
   "outputs": [],
   "source": [
    "def battle(m, n):\n",
    "    \"\"\"\n",
    "    Returns 0 if a draw; 1 is the first model won; -1 if the second model won\n",
    "    For speed, computes twice the score to deal with integers only\n",
    "    \"\"\"\n",
    "    s = sum(i * 2 if a > b else i if a == b else 0 for i, (a, b) in enumerate(zip(m, n)))\n",
    "    return 1 if s > 78 else -1 if s < 78 else 0"
   ]
  }
 ],
 "metadata": {
  "kernelspec": {
   "display_name": "Python 3",
   "language": "python",
   "name": "python3"
  },
  "language_info": {
   "codemirror_mode": {
    "name": "ipython",
    "version": 3
   },
   "file_extension": ".py",
   "mimetype": "text/x-python",
   "name": "python",
   "nbconvert_exporter": "python",
   "pygments_lexer": "ipython3",
   "version": "3.6.9"
  }
 },
 "nbformat": 4,
 "nbformat_minor": 2
}
