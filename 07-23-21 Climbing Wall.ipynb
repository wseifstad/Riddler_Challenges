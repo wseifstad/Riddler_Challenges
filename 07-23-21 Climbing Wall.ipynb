{
 "cells": [
  {
   "cell_type": "code",
   "execution_count": 409,
   "metadata": {},
   "outputs": [],
   "source": []
  },
  {
   "cell_type": "code",
   "execution_count": 407,
   "metadata": {},
   "outputs": [
    {
     "name": "stdout",
     "output_type": "stream",
     "text": [
      "43.6154\n"
     ]
    }
   ],
   "source": [
    "#check min above and min below\n",
    "import random\n",
    "\n",
    "total = 0\n",
    "iters = 5000\n",
    "for _ in range(iters):\n",
    "    wall = [0,10]\n",
    "    min_distances_up = {0:10,10:0}\n",
    "    min_distances_down = {0:0,10:10}\n",
    "    n = 0\n",
    "    while not (all([False for x in min_distances_up.values() if x > 1]) \\\n",
    "           and all([False for x in min_distances_down.values() if x > 1])):\n",
    "    # for a in range(5):\n",
    "        n += 1\n",
    "        hold = random.random()*10\n",
    "        wall.append(hold)\n",
    "        min_distances_up[hold] = 10 - hold\n",
    "        min_distances_down[hold] = hold\n",
    "        for i in wall:\n",
    "            for j in [j for j in wall if i != j]:\n",
    "                if i > j:\n",
    "                    dist_down = i - j\n",
    "                    if dist_down < min_distances_down[i]:\n",
    "                        min_distances_down[i] = dist_down\n",
    "                else:\n",
    "                    dist_up = j - i\n",
    "                    if dist_up < min_distances_up[i]:\n",
    "                        min_distances_up[i] = dist_up\n",
    "    total += n\n",
    "    print(_, end = \"\\r\")\n",
    "print(total/iters)"
   ]
  },
  {
   "cell_type": "code",
   "execution_count": 471,
   "metadata": {},
   "outputs": [
    {
     "name": "stdout",
     "output_type": "stream",
     "text": [
      "43.01997\n"
     ]
    }
   ],
   "source": [
    "#insert into sorted list. calculate target hold and recalculate holds immediately surrounding\n",
    "import random\n",
    "import bisect \n",
    "\n",
    "total = 0\n",
    "iters = 100000\n",
    "for a in range(iters):\n",
    "    wall = [0,10]\n",
    "    distances_up = {0:10,10:0}\n",
    "    distances_down = {0:0,10:10}\n",
    "    n = 0\n",
    "    while len([1 for x in distances_up.values() if x > 1] + [1 for x in distances_down.values() if x > 1]) != 0:\n",
    "        n += 1\n",
    "        hold = random.random()*10\n",
    "        pos = bisect.bisect(wall,hold)\n",
    "        bisect.insort(wall,hold)\n",
    "        distances_up[hold] = wall[pos + 1] - hold\n",
    "        distances_down[hold] = hold - wall[pos - 1]\n",
    "        \n",
    "        if distances_up[wall[pos - 1]] > hold - wall[pos - 1]:\n",
    "            distances_up[wall[pos - 1]] = hold - wall[pos - 1]\n",
    "            \n",
    "        if distances_down[wall[pos + 1]] > wall[pos + 1] - hold:\n",
    "            distances_down[wall[pos + 1]] = wall[pos + 1] - hold\n",
    "    total += n\n",
    "    print(a, end = \"\\r\")\n",
    "print(total/iters)"
   ]
  }
 ],
 "metadata": {
  "kernelspec": {
   "display_name": "Python 3",
   "language": "python",
   "name": "python3"
  },
  "language_info": {
   "codemirror_mode": {
    "name": "ipython",
    "version": 3
   },
   "file_extension": ".py",
   "mimetype": "text/x-python",
   "name": "python",
   "nbconvert_exporter": "python",
   "pygments_lexer": "ipython3",
   "version": "3.6.9"
  }
 },
 "nbformat": 4,
 "nbformat_minor": 2
}
