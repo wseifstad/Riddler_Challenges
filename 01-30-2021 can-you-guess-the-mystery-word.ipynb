{
 "cells": [
  {
   "cell_type": "markdown",
   "metadata": {},
   "source": [
    "From https://fivethirtyeight.com/features/can-you-guess-the-mystery-word/"
   ]
  },
  {
   "cell_type": "code",
   "execution_count": 481,
   "metadata": {},
   "outputs": [
    {
     "name": "stdout",
     "output_type": "stream",
     "text": [
      "[0, 0, 0, 2, 2]\n",
      "[0, 0, 0, 2, 2]\n"
     ]
    }
   ],
   "source": [
    "word = 'aaooo'\n",
    "guess = 'bbbaa'\n",
    "print(score(word,guess))\n",
    "word = 'aoaoo'\n",
    "guess = 'bbbaa'\n",
    "print(score(word,guess))"
   ]
  },
  {
   "cell_type": "code",
   "execution_count": 480,
   "metadata": {},
   "outputs": [
    {
     "name": "stdout",
     "output_type": "stream",
     "text": [
      "['tacos', 'tacts']\n",
      "0.4589\n",
      "['misos']\n",
      "0.3688\n"
     ]
    }
   ],
   "source": [
    "from random import shuffle\n",
    "WORDS = [word.strip() for word in open('enable1.txt') if len(word.strip()) == 5]\n",
    "SCORE_SAMPLES = True\n",
    "def score(word, guess):\n",
    "    \"\"\"\n",
    "    Returns a list of 5 positional scores, where 0 = no match, 1 = green, 2 = yellow.\n",
    "    \"\"\"\n",
    "    match_index = [int(w == g) for w, g in zip(word, guess)]\n",
    "    word_trim = [c for c, x in zip(word, match_index) if not x]\n",
    "    for i, (g, x) in enumerate(zip(guess, match_index)):\n",
    "        if not x and g in word_trim:\n",
    "            match_index[i] = 2\n",
    "            word_trim.remove(g)\n",
    "    return match_index\n",
    "def filter(guesses, word):\n",
    "    \"\"\"\n",
    "    For a set of guesses and a mystery word, returns all the words\n",
    "    that would produce the same scores as the mystery word.\n",
    "    \"\"\"\n",
    "    words = WORDS[:]\n",
    "    for guess in guesses:\n",
    "        s = score(word, guess)\n",
    "        words = [w for w in words if score(w, guess) == s]\n",
    "    return words\n",
    "def prob(guesses, sample_size = None):\n",
    "    \"\"\"\n",
    "    For the set of guesses, returns the probability of guessing a random mystery word.\n",
    "    \"\"\"\n",
    "    p = 0\n",
    "    words = WORDS[:]\n",
    "    if sample_size:\n",
    "        shuffle(words)\n",
    "        words = words[:sample_size]\n",
    "    for i, word in enumerate(words):\n",
    "        print(i, end = '\\r')\n",
    "        candidates = filter(guesses, word)\n",
    "        p += 1 / sum(c[0] == word[0] for c in candidates)\n",
    "    return round(p / len(words), 4)\n",
    "if SCORE_SAMPLES:\n",
    "    guesses1 = ['teach', 'track', 'tacks', 'tails']\n",
    "    print(filter(guesses1, 'tacos'))\n",
    "    print(prob(guesses1, 100))\n",
    "    guesses2 = ['magic', 'maims', 'sumps', 'mosso']\n",
    "    print(filter(guesses2, 'misos'))\n",
    "    print(prob(guesses2, 100))"
   ]
  },
  {
   "cell_type": "code",
   "execution_count": 49,
   "metadata": {},
   "outputs": [
    {
     "name": "stdout",
     "output_type": "stream",
     "text": [
      "['caput', 'fluyt', 'soggy', 'hippo']\n",
      "0.5419\n"
     ]
    }
   ],
   "source": [
    "#trying random list of words:\n",
    "\n",
    "sample = WORDS.copy()\n",
    "shuffle(sample)\n",
    "random_guesses = sample[0:4]\n",
    "print(random_guesses)\n",
    "print(prob(random_guesses,100))"
   ]
  },
  {
   "cell_type": "code",
   "execution_count": 482,
   "metadata": {},
   "outputs": [],
   "source": [
    "import pandas as pd\n",
    "import matplotlib.pyplot as plt\n",
    "import numpy as np"
   ]
  },
  {
   "cell_type": "code",
   "execution_count": 483,
   "metadata": {},
   "outputs": [],
   "source": [
    "df2 = pd.DataFrame(WORDS)\n",
    "df = pd.DataFrame([[char for char in item] for item in WORDS],columns = [0,1,2,3,4])\n",
    "# score each word based on how common each letter | position is, with minimal overlap between the words\n",
    "# individual position score & total document score\n",
    "score_dict = {}\n",
    "variance_dict = {}\n",
    "for col in df.columns:\n",
    "    score_dict[col] = df[col].value_counts() / df.shape[0] # position frequency\n",
    "    variance_dict[col] = np.var(score_dict[col]) # high variance means more likely to guess right, may use?\n",
    "overall_dict = pd.melt(df).value.value_counts() / pd.melt(df).shape[0] # total document frequency"
   ]
  },
  {
   "cell_type": "code",
   "execution_count": 484,
   "metadata": {},
   "outputs": [],
   "source": [
    "word_scores = {}\n",
    "for word in WORDS:\n",
    "    guess_score = 0\n",
    "    pos = 0\n",
    "    for letter in word:\n",
    "        guess_score += score_dict[pos][letter] \n",
    "#         if letter not in word[:pos]:\n",
    "#             guess_score += overall_dict[letter]**(.001)\n",
    "        pos += 1\n",
    "    word_scores[word] = round(guess_score,4)\n",
    "    \n",
    "s  = pd.Series(word_scores,index=word_scores.keys())\n",
    "# s.sort_values(ascending = False,inplace=True)"
   ]
  },
  {
   "cell_type": "code",
   "execution_count": 485,
   "metadata": {},
   "outputs": [
    {
     "name": "stdout",
     "output_type": "stream",
     "text": [
      "sores\n",
      "canty\n",
      "telae\n",
      "liard\n"
     ]
    }
   ],
   "source": [
    "df3 = pd.concat([df2,df,s.reset_index()[0]],axis=1)\n",
    "df3.columns = ['word',0,1,2,3,4,'guess_score']\n",
    "df3.sort_values(by='guess_score',ascending=False,inplace=True)\n",
    "df3.reset_index(inplace=True)\n",
    "\n",
    "guess_list = []\n",
    "for i in range(4):\n",
    "    guess = df3.loc[0]\n",
    "    guess_list.append(guess['word'])\n",
    "    df3 = df3[(df3[0] != guess[0]) & (df3[1] != guess[1]) \\\n",
    "            & (df3[2] != guess[2]) & (df3[3] != guess[3]) \\\n",
    "            & (df3[4] != guess[4])].reset_index(drop = True)\n",
    "    print(guess['word'])"
   ]
  },
  {
   "cell_type": "code",
   "execution_count": 486,
   "metadata": {},
   "outputs": [],
   "source": [
    "df3 = pd.concat([df2,df,s.reset_index()[0]],axis=1)\n",
    "df3.columns = ['word',0,1,2,3,4,'guess_score']\n",
    "df3.sort_values(by='guess_score',ascending=False,inplace=True)\n",
    "df3.reset_index(inplace=True)\n",
    "\n",
    "guess = df3.loc[0]\n",
    "df4 = df3[(df3[0] != guess[0]) & (df3[1] != guess[1]) \\\n",
    "        & (df3[2] != guess[2]) & (df3[3] != guess[3]) \\\n",
    "        & (df3[4] != guess[4])].reset_index(drop = True)"
   ]
  },
  {
   "cell_type": "code",
   "execution_count": 487,
   "metadata": {},
   "outputs": [
    {
     "name": "stdout",
     "output_type": "stream",
     "text": [
      "sores\n"
     ]
    },
    {
     "data": {
      "text/html": [
       "<div>\n",
       "<style scoped>\n",
       "    .dataframe tbody tr th:only-of-type {\n",
       "        vertical-align: middle;\n",
       "    }\n",
       "\n",
       "    .dataframe tbody tr th {\n",
       "        vertical-align: top;\n",
       "    }\n",
       "\n",
       "    .dataframe thead th {\n",
       "        text-align: right;\n",
       "    }\n",
       "</style>\n",
       "<table border=\"1\" class=\"dataframe\">\n",
       "  <thead>\n",
       "    <tr style=\"text-align: right;\">\n",
       "      <th></th>\n",
       "      <th>index</th>\n",
       "      <th>word</th>\n",
       "      <th>0</th>\n",
       "      <th>1</th>\n",
       "      <th>2</th>\n",
       "      <th>3</th>\n",
       "      <th>4</th>\n",
       "      <th>guess_score</th>\n",
       "    </tr>\n",
       "  </thead>\n",
       "  <tbody>\n",
       "    <tr>\n",
       "      <td>0</td>\n",
       "      <td>1150</td>\n",
       "      <td>canty</td>\n",
       "      <td>c</td>\n",
       "      <td>a</td>\n",
       "      <td>n</td>\n",
       "      <td>t</td>\n",
       "      <td>y</td>\n",
       "      <td>0.4984</td>\n",
       "    </tr>\n",
       "    <tr>\n",
       "      <td>1</td>\n",
       "      <td>549</td>\n",
       "      <td>banty</td>\n",
       "      <td>b</td>\n",
       "      <td>a</td>\n",
       "      <td>n</td>\n",
       "      <td>t</td>\n",
       "      <td>y</td>\n",
       "      <td>0.4896</td>\n",
       "    </tr>\n",
       "    <tr>\n",
       "      <td>2</td>\n",
       "      <td>5314</td>\n",
       "      <td>panty</td>\n",
       "      <td>p</td>\n",
       "      <td>a</td>\n",
       "      <td>n</td>\n",
       "      <td>t</td>\n",
       "      <td>y</td>\n",
       "      <td>0.4868</td>\n",
       "    </tr>\n",
       "    <tr>\n",
       "      <td>3</td>\n",
       "      <td>1143</td>\n",
       "      <td>canny</td>\n",
       "      <td>c</td>\n",
       "      <td>a</td>\n",
       "      <td>n</td>\n",
       "      <td>n</td>\n",
       "      <td>y</td>\n",
       "      <td>0.4868</td>\n",
       "    </tr>\n",
       "    <tr>\n",
       "      <td>4</td>\n",
       "      <td>1144</td>\n",
       "      <td>canoe</td>\n",
       "      <td>c</td>\n",
       "      <td>a</td>\n",
       "      <td>n</td>\n",
       "      <td>o</td>\n",
       "      <td>e</td>\n",
       "      <td>0.4817</td>\n",
       "    </tr>\n",
       "  </tbody>\n",
       "</table>\n",
       "</div>"
      ],
      "text/plain": [
       "   index   word  0  1  2  3  4  guess_score\n",
       "0   1150  canty  c  a  n  t  y       0.4984\n",
       "1    549  banty  b  a  n  t  y       0.4896\n",
       "2   5314  panty  p  a  n  t  y       0.4868\n",
       "3   1143  canny  c  a  n  n  y       0.4868\n",
       "4   1144  canoe  c  a  n  o  e       0.4817"
      ]
     },
     "execution_count": 487,
     "metadata": {},
     "output_type": "execute_result"
    }
   ],
   "source": [
    "print(guess['word'])\n",
    "df4.head()"
   ]
  },
  {
   "cell_type": "code",
   "execution_count": 488,
   "metadata": {},
   "outputs": [
    {
     "name": "stdout",
     "output_type": "stream",
     "text": [
      "['sores', 'canty', 'telae', 'liard']\n",
      "0.7911\n"
     ]
    }
   ],
   "source": [
    "print(guess_list)\n",
    "print(prob(guess_list))"
   ]
  }
 ],
 "metadata": {
  "kernelspec": {
   "display_name": "Python 3",
   "language": "python",
   "name": "python3"
  },
  "language_info": {
   "codemirror_mode": {
    "name": "ipython",
    "version": 3
   },
   "file_extension": ".py",
   "mimetype": "text/x-python",
   "name": "python",
   "nbconvert_exporter": "python",
   "pygments_lexer": "ipython3",
   "version": "3.6.9"
  }
 },
 "nbformat": 4,
 "nbformat_minor": 2
}
