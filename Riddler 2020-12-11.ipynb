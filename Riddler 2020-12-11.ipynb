{
 "cells": [
  {
   "cell_type": "markdown",
   "metadata": {},
   "source": [
    "8 slots, w/ symmetry"
   ]
  },
  {
   "cell_type": "code",
   "execution_count": 101,
   "metadata": {},
   "outputs": [
    {
     "name": "stdout",
     "output_type": "stream",
     "text": [
      "135\n"
     ]
    }
   ],
   "source": [
    "from itertools import permutations\n",
    "\n",
    "total_permutations = []\n",
    "for num_candles in range(1,9): \n",
    "    candles = [0]*8\n",
    "    candles[0:num_candles] = [1]*num_candles\n",
    "    candle_permutations = set(permutations(candles,8))\n",
    "    deduped_permutations = []\n",
    "    for i in candle_permutations:\n",
    "        if i[::-1] not in deduped_permutations:\n",
    "            deduped_permutations.append(i)\n",
    "    total_permutations.extend(deduped_permutations)\n",
    "\n",
    "# double checking to make sure I don't have duplicates:\n",
    "for i in total_permutations:\n",
    "    if i[::-1] in total_permutations and i[::-1] != i: print(i)\n",
    "\n",
    "print(len(total_permutations))\n",
    "# 135 (note: doesn't include 0 candles as a night)"
   ]
  }
 ],
 "metadata": {
  "kernelspec": {
   "display_name": "Python 3",
   "language": "python",
   "name": "python3"
  },
  "language_info": {
   "codemirror_mode": {
    "name": "ipython",
    "version": 3
   },
   "file_extension": ".py",
   "mimetype": "text/x-python",
   "name": "python",
   "nbconvert_exporter": "python",
   "pygments_lexer": "ipython3",
   "version": "3.6.9"
  }
 },
 "nbformat": 4,
 "nbformat_minor": 2
}
