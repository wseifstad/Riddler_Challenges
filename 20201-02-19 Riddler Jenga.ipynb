{
 "cells": [
  {
   "cell_type": "code",
   "execution_count": 1,
   "metadata": {},
   "outputs": [],
   "source": [
    "import random"
   ]
  },
  {
   "cell_type": "markdown",
   "metadata": {},
   "source": [
    "In the game of Jenga, you build a tower and then remove its blocks, one at a time, until the tower collapses. But in Riddler Jenga, you start with one block and then place more blocks on top of it, one at a time.\n",
    "\n",
    "\n",
    "All the blocks have the same alignment (e.g., east-west). Importantly, whenever you place a block, its center is picked randomly along the block directly beneath it. For example, the following animation shows Riddler Jenga towers that were randomly constructed before ultimately collapsing when the fifth, 10th and 15th blocks were placed. The block highlighted in red is the one above which the blocks were no longer balanced.\n",
    "\n"
   ]
  },
  {
   "cell_type": "code",
   "execution_count": 3,
   "metadata": {},
   "outputs": [],
   "source": [
    "#tower will fall if the group of blocks' center of mass is not within the immediate block underneath the unit"
   ]
  },
  {
   "cell_type": "code",
   "execution_count": 382,
   "metadata": {},
   "outputs": [
    {
     "name": "stdout",
     "output_type": "stream",
     "text": [
      "6.115938\n"
     ]
    }
   ],
   "source": [
    "#assuming blocks have a length of 1\n",
    "#first block is at position 0, body is from [-.5,.5]. Position of each block will be an absolute position on the x axis\n",
    "\n",
    "def BuildTower():\n",
    "    '''returns the number of blocks added that made the tower fall'''\n",
    "    tower = [0]\n",
    "    n = 0\n",
    "    standing = True\n",
    "    while standing:\n",
    "        tower.insert(0,tower[0] + random.random() * .5 * random.choice([-1,1])) # add block at random placement between -.5 and .5\n",
    "        n += 1\n",
    "        for j in range(len(tower)-1): #iterate through every block collection (i.e. top 1, 2, 3...)\n",
    "            center_of_mass = sum(tower[:j+1]) / len(tower[:j+1])\n",
    "            if (center_of_mass > tower[j+1] + .5 or center_of_mass < tower[j+1] - .5): #if collection CoM is over the edge, collection falls \n",
    "                standing = False\n",
    "                return n\n",
    "\n",
    "\n",
    "outcomes = 0\n",
    "iters = 1000000\n",
    "for i in range(iters):\n",
    "    outcomes += BuildTower()\n",
    "print(outcomes / iters)\n",
    "# ~6.12"
   ]
  }
 ],
 "metadata": {
  "kernelspec": {
   "display_name": "Python 3",
   "language": "python",
   "name": "python3"
  },
  "language_info": {
   "codemirror_mode": {
    "name": "ipython",
    "version": 3
   },
   "file_extension": ".py",
   "mimetype": "text/x-python",
   "name": "python",
   "nbconvert_exporter": "python",
   "pygments_lexer": "ipython3",
   "version": "3.6.9"
  }
 },
 "nbformat": 4,
 "nbformat_minor": 2
}
