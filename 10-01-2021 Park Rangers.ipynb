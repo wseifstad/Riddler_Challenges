{
 "cells": [
  {
   "cell_type": "markdown",
   "metadata": {},
   "source": [
    "From Bradley Albrecht comes an ecologically minded enigma:\n",
    "\n",
    "You are responsible for setting the ranger schedule at Riddler River National Park. Four rangers are assigned to two locations: the mountain lookout in the north and the lakeside campground in the south. Each assignment lasts one week (Monday through Friday), and every week two rangers should be in the north and two should be in the south.\n",
    "\n",
    "Your task is to set an assignment schedule that lasts a certain number of weeks and then repeats indefinitely.\n",
    "\n",
    "In the spirit of fairness, the rangers propose the following conditions for the schedule:\n",
    "\n",
    "Each ranger should spend as many weeks in the north as they do in the south.\n",
    "Each ranger should spend the same number of weeks paired with each other ranger.\n",
    "All rangers should move the same number of times over the course of the schedule. This includes potentially moving back to their starting assignment after the last week of the schedule.\n",
    "Exactly two rangers should switch locations each week.\n",
    "What is the shortest possible repeating schedule that meets the rangers’ conditions?\n",
    "\n"
   ]
  },
  {
   "cell_type": "code",
   "execution_count": 64,
   "metadata": {},
   "outputs": [],
   "source": [
    "from itertools import combinations"
   ]
  },
  {
   "cell_type": "code",
   "execution_count": null,
   "metadata": {},
   "outputs": [],
   "source": [
    "moutain_north = []\n",
    "#2\n",
    "lakeside_campgroud_south = []\n",
    "#2\n",
    "rotation_number_of_weeks = 10\n",
    "\n",
    "# paired with each other the same number of weeks\n",
    "# each moves the same number of times\n",
    "# including moving back to start!"
   ]
  },
  {
   "cell_type": "code",
   "execution_count": 128,
   "metadata": {},
   "outputs": [],
   "source": [
    "rangers = ['a','b','c','d'] #4 rangers\n",
    "locations = {'north':[],\n",
    "             'south':[]} #2 locations\n",
    "\n",
    "ranger_combos = {i:0 for i in list(combinations(rangers,2))} # ranger buddy combos\n",
    "ranger_moves = {i:0 for i in rangers} # ranger number of times moved\n",
    "ranger_locations = {(i,j):0 for i in rangers for j in locations} #ranger locations seen\n",
    "positions_seen = []"
   ]
  },
  {
   "cell_type": "code",
   "execution_count": 126,
   "metadata": {},
   "outputs": [],
   "source": [
    "def set_initial_positions():\n",
    "    current_position = [set(rangers[0:2]),set(rangers[2:4])]\n",
    "    positions_seen.append(current_position)\n",
    "    return current_position\n",
    "\n",
    "def move_rangers(rangers,locations,combos_seen):\n",
    "#     look up rangers that have moved the least number of times in each.\n",
    "    'hello'\n"
   ]
  },
  {
   "cell_type": "code",
   "execution_count": 129,
   "metadata": {},
   "outputs": [
    {
     "data": {
      "text/plain": [
       "([{'a', 'b'}, {'c', 'd'}], [[{'a', 'b'}, {'c', 'd'}]])"
      ]
     },
     "execution_count": 129,
     "metadata": {},
     "output_type": "execute_result"
    }
   ],
   "source": [
    "current_position = set_initial_positions()\n",
    "current_position, positions_seen"
   ]
  }
 ],
 "metadata": {
  "kernelspec": {
   "display_name": "Python 3",
   "language": "python",
   "name": "python3"
  },
  "language_info": {
   "codemirror_mode": {
    "name": "ipython",
    "version": 3
   },
   "file_extension": ".py",
   "mimetype": "text/x-python",
   "name": "python",
   "nbconvert_exporter": "python",
   "pygments_lexer": "ipython3",
   "version": "3.6.9"
  }
 },
 "nbformat": 4,
 "nbformat_minor": 2
}
