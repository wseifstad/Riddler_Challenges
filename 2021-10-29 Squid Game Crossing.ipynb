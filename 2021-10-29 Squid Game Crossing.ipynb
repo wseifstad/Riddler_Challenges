{
 "cells": [
  {
   "cell_type": "code",
   "execution_count": 81,
   "metadata": {},
   "outputs": [
    {
     "data": {
      "text/plain": [
       "7.0000762939453125"
      ]
     },
     "execution_count": 81,
     "metadata": {},
     "output_type": "execute_result"
    }
   ],
   "source": [
    "possibilities = [bin(i)[2:].zfill(18) for i in range(2**18)]\n",
    "# consider 0 to be a fall, if there are 16 or more 0s, then everyone died.\n",
    "survivors = 0\n",
    "for i in possibilities:\n",
    "    survivors += (16 - min(sum([1 for j in i if j == '0']),16))\n",
    "survivors / len(possibilities)"
   ]
  },
  {
   "cell_type": "code",
   "execution_count": 113,
   "metadata": {},
   "outputs": [
    {
     "data": {
      "text/plain": [
       "0.8346176147460938"
      ]
     },
     "execution_count": 113,
     "metadata": {},
     "output_type": "execute_result"
    }
   ],
   "source": [
    "squares = 18\n",
    "people = 9\n",
    "#vladimiric code:\n",
    "possibilities = [bin(i)[2:].zfill(squares) for i in range(2**squares)]\n",
    "sum(people - min(j.count('0'),people) for j in possibilities) / len(possibilities)"
   ]
  },
  {
   "cell_type": "code",
   "execution_count": 120,
   "metadata": {},
   "outputs": [
    {
     "name": "stdout",
     "output_type": "stream",
     "text": [
      "83.3 ms ± 1.86 ms per loop (mean ± std. dev. of 7 runs, 10 loops each)\n"
     ]
    }
   ],
   "source": [
    "%timeit sum([people - min(j.count('0'),people) for j in possibilities])"
   ]
  },
  {
   "cell_type": "code",
   "execution_count": 121,
   "metadata": {},
   "outputs": [
    {
     "name": "stdout",
     "output_type": "stream",
     "text": [
      "89.7 ms ± 2.89 ms per loop (mean ± std. dev. of 7 runs, 10 loops each)\n"
     ]
    }
   ],
   "source": [
    "%timeit sum((people - min(j.count('0'),people) for j in possibilities))"
   ]
  },
  {
   "cell_type": "code",
   "execution_count": 122,
   "metadata": {},
   "outputs": [
    {
     "name": "stdout",
     "output_type": "stream",
     "text": [
      "268 ms ± 1.2 ms per loop (mean ± std. dev. of 7 runs, 1 loop each)\n",
      "254 ms ± 1.27 ms per loop (mean ± std. dev. of 7 runs, 1 loop each)\n"
     ]
    }
   ],
   "source": [
    "%timeit nums_sum_list_comprehension = sum([num**2 for num in range(1000000)])\n",
    "%timeit nums_sum_generator_expression = sum((num**2 for num in range(1000000)))"
   ]
  }
 ],
 "metadata": {
  "kernelspec": {
   "display_name": "Python 3",
   "language": "python",
   "name": "python3"
  },
  "language_info": {
   "codemirror_mode": {
    "name": "ipython",
    "version": 3
   },
   "file_extension": ".py",
   "mimetype": "text/x-python",
   "name": "python",
   "nbconvert_exporter": "python",
   "pygments_lexer": "ipython3",
   "version": "3.6.9"
  }
 },
 "nbformat": 4,
 "nbformat_minor": 2
}
