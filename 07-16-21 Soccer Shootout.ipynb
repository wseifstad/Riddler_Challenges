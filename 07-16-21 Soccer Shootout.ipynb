{
 "cells": [
  {
   "cell_type": "code",
   "execution_count": 59,
   "metadata": {},
   "outputs": [
    {
     "name": "stdout",
     "output_type": "stream",
     "text": [
      "10.56754\n"
     ]
    }
   ],
   "source": [
    "import numpy as np\n",
    "\n",
    "def play():\n",
    "    # cant win before the end of round 3, so start there\n",
    "    n = 3\n",
    "    a = np.random.binomial(3, .7)\n",
    "    b = np.random.binomial(3, .7)\n",
    "    a_kicks = 3\n",
    "    b_kicks = 3\n",
    "    while (n <= 4 and abs(a - b) <= (5 - n)) or (n > 4 and a == b):\n",
    "        a += np.random.binomial(1, .7)\n",
    "        a_kicks += 1\n",
    "        if n <= 4 and abs(a-b) > (5 - b_kicks):\n",
    "            break\n",
    "        b += np.random.binomial(1, .7)\n",
    "        b_kicks += 1\n",
    "        n += 1\n",
    "    kicks = a_kicks + b_kicks\n",
    "    return kicks\n",
    "\n",
    "rounds = 0\n",
    "total_shots = 0\n",
    "iters = 100000\n",
    "\n",
    "for i in range(iters):\n",
    "    total_shots += play()\n",
    "print(total_shots / iters)"
   ]
  },
  {
   "cell_type": "code",
   "execution_count": 52,
   "metadata": {},
   "outputs": [
    {
     "name": "stdout",
     "output_type": "stream",
     "text": [
      "0.7004166666666666\n"
     ]
    }
   ],
   "source": [
    "x = 0\n",
    "for i in range(iters):\n",
    "    x += np.random.binomial(3, .7)\n",
    "print(x/iters/3)"
   ]
  }
 ],
 "metadata": {
  "kernelspec": {
   "display_name": "Python 3",
   "language": "python",
   "name": "python3"
  },
  "language_info": {
   "codemirror_mode": {
    "name": "ipython",
    "version": 3
   },
   "file_extension": ".py",
   "mimetype": "text/x-python",
   "name": "python",
   "nbconvert_exporter": "python",
   "pygments_lexer": "ipython3",
   "version": "3.6.9"
  }
 },
 "nbformat": 4,
 "nbformat_minor": 2
}
